{
 "cells": [
  {
   "cell_type": "markdown",
   "metadata": {},
   "source": [
    "### SAADHANA SRINATH\n",
    "OBJECT DETECTION AND RECOGNITION USING PRE-TRAINED MOBILENET-SSD MODEL"
   ]
  },
  {
   "cell_type": "markdown",
   "metadata": {},
   "source": [
    "### Loading the MobileNet SSD Model"
   ]
  },
  {
   "cell_type": "code",
   "execution_count": 1,
   "metadata": {},
   "outputs": [
    {
     "name": "stdout",
     "output_type": "stream",
     "text": [
      "Loading model...\n",
      "Model Loaded\n"
     ]
    }
   ],
   "source": [
    "import cv2\n",
    "import numpy as np\n",
    "import imutils\n",
    "\n",
    "prototxt = \"MobileNetSSD_deploy.prototxt.txt\"\n",
    "model = \"MobileNetSSD_deploy.caffemodel\"\n",
    "\n",
    "CLASSES = [\"background\", \"aeroplane\", \"bicycle\", \"bird\", \"boat\",\"bottle\", \"bus\", \"car\", \"cat\", \"chair\", \"cow\", \n",
    "           \"diningtable\",\"dog\", \"horse\", \"motorbike\", \"person\", \"pottedplant\", \"sheep\",\"sofa\", \"train\", \"tvmonitor\"]\n",
    "\n",
    "## randomly choosing colors for all the elements of the CLASSES list\n",
    "COLORS = np.random.uniform(0, 255, size=(len(CLASSES), 3))\n",
    "\n",
    "\n",
    "print(\"Loading model...\")\n",
    "## net holds the pre-trained model\n",
    "net = cv2.dnn.readNetFromCaffe(prototxt, model)\n",
    "print(\"Model Loaded\")\n"
   ]
  },
  {
   "cell_type": "markdown",
   "metadata": {},
   "source": [
    "### Object Detection and Classification in an Image"
   ]
  },
  {
   "cell_type": "code",
   "execution_count": 2,
   "metadata": {},
   "outputs": [],
   "source": [
    "## to check for confidence level later on\n",
    "confThresh = 0.2 \n",
    "\n",
    "## loading the image \n",
    "img = cv2.imread('Img.png')\n",
    "## resizing for uniformity\n",
    "frame = imutils.resize(img, width=500)\n",
    "        \n",
    "## variables later used to draw the bounding rectangle\n",
    "(h, w) = frame.shape[:2]\n",
    " \n",
    "## resizing the image according to the requirements of the Model\n",
    "imResizeBlob = cv2.resize(frame, (300,300))\n",
    "## 127.5 is for smoothness \n",
    "blob = cv2.dnn.blobFromImage(imResizeBlob,0.007843, (300,300), 127.5)\n",
    "       \n",
    "## passing blob img as Ip to the model\n",
    "net.setInput(blob)\n",
    "       \n",
    "## sending the img forward for classification\n",
    "## detections (array var) stores the accuracy, class of obj in terms of its index value in the CLASSES list\n",
    "detections = net.forward()      \n",
    "detShape = detections.shape[2]\n",
    "\n",
    "        \n",
    "for i in np.arange(0,detShape):\n",
    "    confidence = detections[0, 0, i, 2]\n",
    "                \n",
    "    ## proceed only if there is a recognisable object\n",
    "    if confidence > confThresh: \n",
    "        ## idx stores the class no. of the obj detected\n",
    "        idx = int(detections[0, 0, i, 1])                 \n",
    "                       \n",
    "        ## framing and plotting the bounding rectangles        \n",
    "        box = detections[0, 0, i, 3:7] * np.array([w, h, w, h])\n",
    "        (startX, startY, endX, endY) = box.astype(\"int\")\n",
    "        label = \"{}: {:.2f}%\".format(CLASSES[idx],confidence * 100)  ## to store the text that needs to be printed\n",
    "        cv2.rectangle(frame,(startX, startY),(endX, endY),COLORS[idx],2)\n",
    "                        \n",
    "        ## deciding the position of the display text w.r.t the bounding rectangle\n",
    "        if startY - 15 > 15:\n",
    "            y = startY - 15\n",
    "        else:\n",
    "            startY + 15\n",
    "            \n",
    "        ## displaying the name of the object and confidence level              \n",
    "        cv2.putText(frame, label, (startX, y),cv2.FONT_HERSHEY_SIMPLEX, 0.5, COLORS[idx], 2)\n",
    "\n",
    "        \n",
    "## to display the image\n",
    "cv2.imshow('image',frame)\n",
    "cv2.waitKey(0)\n",
    "cv2.destroyAllWindows()\n",
    "\n"
   ]
  },
  {
   "cell_type": "markdown",
   "metadata": {},
   "source": [
    "### Real-Time Object Detection and Classification"
   ]
  },
  {
   "cell_type": "code",
   "execution_count": 3,
   "metadata": {},
   "outputs": [
    {
     "name": "stdout",
     "output_type": "stream",
     "text": [
      "Starting Camera Feed...\n"
     ]
    }
   ],
   "source": [
    "import time\n",
    "\n",
    "## to check for confidence level later on\n",
    "confThresh = 0.2\n",
    "\n",
    "print(\"Starting Camera Feed...\")\n",
    "## reading from the camera\n",
    "vs = cv2.VideoCapture(0)\n",
    "time.sleep(2.0)\n",
    "\n",
    "while True:\n",
    "        _,frame = vs.read()\n",
    "        ## resizing for uniformity\n",
    "        frame = imutils.resize(frame, width=500)\n",
    "\n",
    "        ## variables later used to draw the bounding rectangle\n",
    "        (h, w) = frame.shape[:2]\n",
    "        \n",
    "        ## resizing the image according to the requirements of the Model\n",
    "        imResizeBlob = cv2.resize(frame, (300, 300))\n",
    "        ## 127.5 is for smoothness \n",
    "        blob = cv2.dnn.blobFromImage(imResizeBlob,0.007843, (300, 300), 127.5)\n",
    "       \n",
    "        ## passing blob img as Ip to the model\n",
    "        net.setInput(blob)\n",
    "        \n",
    "        ## sending the img forward for classification\n",
    "        ## detections (array var) stores the accuracy, class of obj in terms of its index value in the CLASSES list\n",
    "        detections = net.forward()\n",
    "        detShape = detections.shape[2]\n",
    "        \n",
    "        \n",
    "        for i in np.arange(0,detShape):\n",
    "            confidence = detections[0, 0, i, 2]\n",
    "                \n",
    "            ## proceed only if there is a recognisable object\n",
    "            if confidence > confThresh:  \n",
    "                ## idx stores the class no. of the obj detected\n",
    "                idx = int(detections[0, 0, i, 1])                           \n",
    "                \n",
    "                ## framing and plotting the bounding rectangles \n",
    "                box = detections[0, 0, i, 3:7] * np.array([w, h, w, h])\n",
    "                (startX, startY, endX, endY) = box.astype(\"int\")\n",
    "                label = \"{}: {:.2f}%\".format(CLASSES[idx],confidence * 100)  ## to store the text that needs to be printed\n",
    "                cv2.rectangle(frame,(startX, startY),(endX, endY),COLORS[idx],2)\n",
    "                        \n",
    "                ## deciding the position of the display text w.r.t the bounding rectangle\n",
    "                if startY - 15 > 15:\n",
    "                    y = startY - 15\n",
    "                else:\n",
    "                    startY + 15\n",
    "                                \n",
    "                ## displaying the name of the object and confidence level       \n",
    "                cv2.putText(frame, label, (startX, y),cv2.FONT_HERSHEY_SIMPLEX, 0.5, COLORS[idx], 2)\n",
    "\n",
    "        \n",
    "        ## to display the image until 'esc' is pressed\n",
    "        cv2.imshow(\"Frame\", frame)\n",
    "        key = cv2.waitKey(1)\n",
    "        if key == 27:\n",
    "                break\n",
    "                \n",
    "vs.release()\n",
    "cv2.destroyAllWindows()"
   ]
  },
  {
   "cell_type": "code",
   "execution_count": null,
   "metadata": {},
   "outputs": [],
   "source": []
  }
 ],
 "metadata": {
  "kernelspec": {
   "display_name": "Python 3",
   "language": "python",
   "name": "python3"
  },
  "language_info": {
   "codemirror_mode": {
    "name": "ipython",
    "version": 3
   },
   "file_extension": ".py",
   "mimetype": "text/x-python",
   "name": "python",
   "nbconvert_exporter": "python",
   "pygments_lexer": "ipython3",
   "version": "3.7.6"
  }
 },
 "nbformat": 4,
 "nbformat_minor": 4
}
